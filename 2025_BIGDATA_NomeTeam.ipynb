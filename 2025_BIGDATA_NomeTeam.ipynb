{
  "nbformat": 4,
  "nbformat_minor": 0,
  "metadata": {
    "colab": {
      "provenance": [],
      "authorship_tag": "ABX9TyO6Qmbx8VtjAcNWfgVz9OdD",
      "include_colab_link": true
    },
    "kernelspec": {
      "name": "python3",
      "display_name": "Python 3"
    },
    "language_info": {
      "name": "python"
    }
  },
  "cells": [
    {
      "cell_type": "markdown",
      "metadata": {
        "id": "view-in-github",
        "colab_type": "text"
      },
      "source": [
        "<a href=\"https://colab.research.google.com/github/HyperFede/BigData/blob/main/2025_BIGDATA_NomeTeam.ipynb\" target=\"_parent\"><img src=\"https://colab.research.google.com/assets/colab-badge.svg\" alt=\"Open In Colab\"/></a>"
      ]
    },
    {
      "cell_type": "markdown",
      "source": [
        "Team composto da:\n",
        "*   Federico Mauro MATRICOLA\n",
        "*   Mattia Stefanello MATRICOLA\n",
        "*   Enrico Stefanazzi MATRICOLA"
      ],
      "metadata": {
        "id": "Nepzien4tux5"
      }
    },
    {
      "cell_type": "code",
      "source": [],
      "metadata": {
        "id": "e8e0zBO7os5z"
      },
      "execution_count": null,
      "outputs": []
    }
  ]
}